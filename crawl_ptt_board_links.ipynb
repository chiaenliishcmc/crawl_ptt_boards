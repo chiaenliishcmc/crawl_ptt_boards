{
 "cells": [
  {
   "cell_type": "code",
   "execution_count": 22,
   "id": "82efb494-0fb0-4583-9f9e-2113116de09b",
   "metadata": {},
   "outputs": [
    {
     "data": {
      "text/plain": [
       "'/bbs/Gossiping/index.html'"
      ]
     },
     "execution_count": 22,
     "metadata": {},
     "output_type": "execute_result"
    }
   ],
   "source": [
    "import csv\n",
    "import requests\n",
    "from bs4 import BeautifulSoup\n",
    "\n",
    "# Send a GET request to the webpage\n",
    "url = \"https://www.ptt.cc/bbs/index.html\"\n",
    "response = requests.get(url)\n",
    "\n",
    "# Parse the HTML content\n",
    "soup = BeautifulSoup(response.content, 'html.parser')\n",
    "\n",
    "# Find all the board entries\n",
    "boards = soup.find_all('a', class_='board')\n",
    "\n",
    "boards[0]['href']"
   ]
  },
  {
   "cell_type": "code",
   "execution_count": 23,
   "id": "2fd17190-1d67-4485-9b4d-4f6f38623716",
   "metadata": {},
   "outputs": [],
   "source": [
    "# Prepare the data for CSV\n",
    "data = []"
   ]
  },
  {
   "cell_type": "code",
   "execution_count": 27,
   "id": "f480d8f8-c236-4826-ab85-b8bc89ceae36",
   "metadata": {},
   "outputs": [
    {
     "name": "stdout",
     "output_type": "stream",
     "text": [
      "Name: Gossiping, Link: https://www.ptt.cc/bbs/Gossiping/index.html\n",
      "Name: Stock, Link: https://www.ptt.cc/bbs/Stock/index.html\n",
      "Name: C_Chat, Link: https://www.ptt.cc/bbs/C_Chat/index.html\n",
      "Name: Olympics_ISG, Link: https://www.ptt.cc/bbs/Olympics_ISG/index.html\n",
      "Name: Tennis, Link: https://www.ptt.cc/bbs/Tennis/index.html\n",
      "Name: Baseball, Link: https://www.ptt.cc/bbs/Baseball/index.html\n",
      "Name: NBA, Link: https://www.ptt.cc/bbs/NBA/index.html\n",
      "Name: Lifeismoney, Link: https://www.ptt.cc/bbs/Lifeismoney/index.html\n",
      "Name: HatePolitics, Link: https://www.ptt.cc/bbs/HatePolitics/index.html\n",
      "Name: home-sale, Link: https://www.ptt.cc/bbs/home-sale/index.html\n",
      "Name: KoreaStar, Link: https://www.ptt.cc/bbs/KoreaStar/index.html\n",
      "Name: car, Link: https://www.ptt.cc/bbs/car/index.html\n",
      "Name: LoL, Link: https://www.ptt.cc/bbs/LoL/index.html\n",
      "Name: Beauty, Link: https://www.ptt.cc/bbs/Beauty/index.html\n",
      "Name: sex, Link: https://www.ptt.cc/bbs/sex/index.html\n",
      "Name: BaseballXXXX, Link: https://www.ptt.cc/bbs/BaseballXXXX/index.html\n",
      "Name: movie, Link: https://www.ptt.cc/bbs/movie/index.html\n",
      "Name: basketballTW, Link: https://www.ptt.cc/bbs/basketballTW/index.html\n",
      "Name: PC_Shopping, Link: https://www.ptt.cc/bbs/PC_Shopping/index.html\n",
      "Name: Tech_Job, Link: https://www.ptt.cc/bbs/Tech_Job/index.html\n",
      "Name: creditcard, Link: https://www.ptt.cc/bbs/creditcard/index.html\n",
      "Name: Japan_Travel, Link: https://www.ptt.cc/bbs/Japan_Travel/index.html\n",
      "Name: Kaohsiung, Link: https://www.ptt.cc/bbs/Kaohsiung/index.html\n",
      "Name: SportLottery, Link: https://www.ptt.cc/bbs/SportLottery/index.html\n",
      "Name: Tainan, Link: https://www.ptt.cc/bbs/Tainan/index.html\n",
      "Name: MobileComm, Link: https://www.ptt.cc/bbs/MobileComm/index.html\n",
      "Name: FORMULA1, Link: https://www.ptt.cc/bbs/FORMULA1/index.html\n",
      "Name: Badminton, Link: https://www.ptt.cc/bbs/Badminton/index.html\n",
      "Name: marriage, Link: https://www.ptt.cc/bbs/marriage/index.html\n",
      "Name: BabyMother, Link: https://www.ptt.cc/bbs/BabyMother/index.html\n",
      "Name: japanavgirls, Link: https://www.ptt.cc/bbs/japanavgirls/index.html\n",
      "Name: Military, Link: https://www.ptt.cc/bbs/Military/index.html\n",
      "Name: KoreaDrama, Link: https://www.ptt.cc/bbs/KoreaDrama/index.html\n",
      "Name: Marginalman, Link: https://www.ptt.cc/bbs/Marginalman/index.html\n",
      "Name: Steam, Link: https://www.ptt.cc/bbs/Steam/index.html\n",
      "Name: Boy-Girl, Link: https://www.ptt.cc/bbs/Boy-Girl/index.html\n",
      "Name: TaichungBun, Link: https://www.ptt.cc/bbs/TaichungBun/index.html\n",
      "Name: WomenTalk, Link: https://www.ptt.cc/bbs/WomenTalk/index.html\n",
      "Name: PlayStation, Link: https://www.ptt.cc/bbs/PlayStation/index.html\n",
      "Name: miHoYo, Link: https://www.ptt.cc/bbs/miHoYo/index.html\n",
      "Name: iOS, Link: https://www.ptt.cc/bbs/iOS/index.html\n",
      "Name: AllTogether, Link: https://www.ptt.cc/bbs/AllTogether/index.html\n",
      "Name: HardwareSale, Link: https://www.ptt.cc/bbs/HardwareSale/index.html\n",
      "Name: Japandrama, Link: https://www.ptt.cc/bbs/Japandrama/index.html\n",
      "Name: CVS, Link: https://www.ptt.cc/bbs/CVS/index.html\n",
      "Name: China-Drama, Link: https://www.ptt.cc/bbs/China-Drama/index.html\n",
      "Name: EAseries, Link: https://www.ptt.cc/bbs/EAseries/index.html\n",
      "Name: CFantasy, Link: https://www.ptt.cc/bbs/CFantasy/index.html\n",
      "Name: Elephants, Link: https://www.ptt.cc/bbs/Elephants/index.html\n",
      "Name: e-shopping, Link: https://www.ptt.cc/bbs/e-shopping/index.html\n",
      "Name: Lions, Link: https://www.ptt.cc/bbs/Lions/index.html\n",
      "Name: Drama-Ticket, Link: https://www.ptt.cc/bbs/Drama-Ticket/index.html\n",
      "Name: CarShop, Link: https://www.ptt.cc/bbs/CarShop/index.html\n",
      "Name: Gamesale, Link: https://www.ptt.cc/bbs/Gamesale/index.html\n",
      "Name: biker, Link: https://www.ptt.cc/bbs/biker/index.html\n",
      "Name: MacShop, Link: https://www.ptt.cc/bbs/MacShop/index.html\n",
      "Name: AC_In, Link: https://www.ptt.cc/bbs/AC_In/index.html\n",
      "Name: Hsinchu, Link: https://www.ptt.cc/bbs/Hsinchu/index.html\n",
      "Name: SET, Link: https://www.ptt.cc/bbs/SET/index.html\n",
      "Name: KR_Entertain, Link: https://www.ptt.cc/bbs/KR_Entertain/index.html\n",
      "Name: watch, Link: https://www.ptt.cc/bbs/watch/index.html\n",
      "Name: mobilesales, Link: https://www.ptt.cc/bbs/mobilesales/index.html\n",
      "Name: BeautySalon, Link: https://www.ptt.cc/bbs/BeautySalon/index.html\n",
      "Name: Railway, Link: https://www.ptt.cc/bbs/Railway/index.html\n",
      "Name: Headphone, Link: https://www.ptt.cc/bbs/Headphone/index.html\n",
      "Name: PathofExile, Link: https://www.ptt.cc/bbs/PathofExile/index.html\n",
      "Name: Wanted, Link: https://www.ptt.cc/bbs/Wanted/index.html\n",
      "Name: DigiCurrency, Link: https://www.ptt.cc/bbs/DigiCurrency/index.html\n",
      "Name: marvel, Link: https://www.ptt.cc/bbs/marvel/index.html\n",
      "Name: MLB, Link: https://www.ptt.cc/bbs/MLB/index.html\n",
      "Name: Vtuber, Link: https://www.ptt.cc/bbs/Vtuber/index.html\n",
      "Name: PuzzleDragon, Link: https://www.ptt.cc/bbs/PuzzleDragon/index.html\n",
      "Name: Aviation, Link: https://www.ptt.cc/bbs/Aviation/index.html\n",
      "Name: E-appliance, Link: https://www.ptt.cc/bbs/E-appliance/index.html\n",
      "Name: e-coupon, Link: https://www.ptt.cc/bbs/e-coupon/index.html\n",
      "Name: joke, Link: https://www.ptt.cc/bbs/joke/index.html\n",
      "Name: MakeUp, Link: https://www.ptt.cc/bbs/MakeUp/index.html\n",
      "Name: Bank_Service, Link: https://www.ptt.cc/bbs/Bank_Service/index.html\n",
      "Name: Djokovic, Link: https://www.ptt.cc/bbs/Djokovic/index.html\n",
      "Name: PokemonGO, Link: https://www.ptt.cc/bbs/PokemonGO/index.html\n",
      "Name: give, Link: https://www.ptt.cc/bbs/give/index.html\n",
      "Name: WOW, Link: https://www.ptt.cc/bbs/WOW/index.html\n",
      "Name: TY_Research, Link: https://www.ptt.cc/bbs/TY_Research/index.html\n",
      "Name: Salary, Link: https://www.ptt.cc/bbs/Salary/index.html\n",
      "Name: MuscleBeach, Link: https://www.ptt.cc/bbs/MuscleBeach/index.html\n",
      "Name: DSLR, Link: https://www.ptt.cc/bbs/DSLR/index.html\n",
      "Name: NSwitch, Link: https://www.ptt.cc/bbs/NSwitch/index.html\n",
      "Name: SuperBike, Link: https://www.ptt.cc/bbs/SuperBike/index.html\n",
      "Name: fastfood, Link: https://www.ptt.cc/bbs/fastfood/index.html\n",
      "Name: DC_SALE, Link: https://www.ptt.cc/bbs/DC_SALE/index.html\n",
      "Name: cat, Link: https://www.ptt.cc/bbs/cat/index.html\n",
      "Name: ONE_PIECE, Link: https://www.ptt.cc/bbs/ONE_PIECE/index.html\n",
      "Name: part-time, Link: https://www.ptt.cc/bbs/part-time/index.html\n",
      "Name: BlueArchive, Link: https://www.ptt.cc/bbs/BlueArchive/index.html\n",
      "Name: YuanChuang, Link: https://www.ptt.cc/bbs/YuanChuang/index.html\n",
      "Name: CheerGirlsTW, Link: https://www.ptt.cc/bbs/CheerGirlsTW/index.html\n",
      "Name: PublicServan, Link: https://www.ptt.cc/bbs/PublicServan/index.html\n",
      "Name: BabyProducts, Link: https://www.ptt.cc/bbs/BabyProducts/index.html\n",
      "Name: nb-shopping, Link: https://www.ptt.cc/bbs/nb-shopping/index.html\n",
      "Name: ToS, Link: https://www.ptt.cc/bbs/ToS/index.html\n",
      "Name: Taoyuan, Link: https://www.ptt.cc/bbs/Taoyuan/index.html\n",
      "Name: TW_Entertain, Link: https://www.ptt.cc/bbs/TW_Entertain/index.html\n",
      "Name: H-GAME, Link: https://www.ptt.cc/bbs/H-GAME/index.html\n",
      "Name: Option, Link: https://www.ptt.cc/bbs/Option/index.html\n",
      "Name: Food, Link: https://www.ptt.cc/bbs/Food/index.html\n",
      "Name: FATE_GO, Link: https://www.ptt.cc/bbs/FATE_GO/index.html\n",
      "Name: Soft_Job, Link: https://www.ptt.cc/bbs/Soft_Job/index.html\n",
      "Name: Road_Running, Link: https://www.ptt.cc/bbs/Road_Running/index.html\n",
      "Name: Brand, Link: https://www.ptt.cc/bbs/Brand/index.html\n",
      "Name: cookclub, Link: https://www.ptt.cc/bbs/cookclub/index.html\n",
      "Name: tabletennis, Link: https://www.ptt.cc/bbs/tabletennis/index.html\n",
      "Name: SakaTalk, Link: https://www.ptt.cc/bbs/SakaTalk/index.html\n",
      "Name: KanColle, Link: https://www.ptt.cc/bbs/KanColle/index.html\n",
      "Name: Gov_owned, Link: https://www.ptt.cc/bbs/Gov_owned/index.html\n",
      "Name: Examination, Link: https://www.ptt.cc/bbs/Examination/index.html\n",
      "Name: DMM_GAMES, Link: https://www.ptt.cc/bbs/DMM_GAMES/index.html\n",
      "Name: YUGIOH, Link: https://www.ptt.cc/bbs/YUGIOH/index.html\n",
      "Name: DIABLO, Link: https://www.ptt.cc/bbs/DIABLO/index.html\n",
      "Name: Digitalhome, Link: https://www.ptt.cc/bbs/Digitalhome/index.html\n",
      "Name: bicycle, Link: https://www.ptt.cc/bbs/bicycle/index.html\n",
      "Name: Key_Mou_Pad, Link: https://www.ptt.cc/bbs/Key_Mou_Pad/index.html\n",
      "Name: Guardians, Link: https://www.ptt.cc/bbs/Guardians/index.html\n",
      "Name: KoreanPop, Link: https://www.ptt.cc/bbs/KoreanPop/index.html\n",
      "Name: Chiayi, Link: https://www.ptt.cc/bbs/Chiayi/index.html\n",
      "Name: points, Link: https://www.ptt.cc/bbs/points/index.html\n",
      "Name: XBOX, Link: https://www.ptt.cc/bbs/XBOX/index.html\n",
      "Name: BikerShop, Link: https://www.ptt.cc/bbs/BikerShop/index.html\n",
      "Name: studyteacher, Link: https://www.ptt.cc/bbs/studyteacher/index.html\n"
     ]
    }
   ],
   "source": [
    "# Extract and print the board names and links\n",
    "for board in boards:\n",
    "    name = board.find('div', class_='board-name').text.strip()\n",
    "    link = \"https://www.ptt.cc\" + board['href']\n",
    "    data.append({\"列表名稱\": name, \"網址\": link})\n",
    "    #print(f\"Name: {name}, Link: {link}\")"
   ]
  },
  {
   "cell_type": "code",
   "execution_count": 26,
   "id": "0b4aa443-3d94-4264-8c12-e013850b5f22",
   "metadata": {},
   "outputs": [
    {
     "data": {
      "text/plain": [
       "'熱門看板列表名稱與網址.csv'"
      ]
     },
     "execution_count": 26,
     "metadata": {},
     "output_type": "execute_result"
    }
   ],
   "source": [
    "# Specify the file name\n",
    "file_name = '熱門看板列表名稱與網址.csv'\n",
    "\n",
    "# Write data to CSV file\n",
    "with open(file_name, mode='w', newline='', encoding='utf-8') as file:\n",
    "    writer = csv.DictWriter(file, fieldnames=[\"列表名稱\", \"網址\"])\n",
    "    writer.writeheader()\n",
    "    writer.writerows(data)\n",
    "\n",
    "file_name"
   ]
  }
 ],
 "metadata": {
  "kernelspec": {
   "display_name": "Python 3 (ipykernel)",
   "language": "python",
   "name": "python3"
  },
  "language_info": {
   "codemirror_mode": {
    "name": "ipython",
    "version": 3
   },
   "file_extension": ".py",
   "mimetype": "text/x-python",
   "name": "python",
   "nbconvert_exporter": "python",
   "pygments_lexer": "ipython3",
   "version": "3.11.7"
  }
 },
 "nbformat": 4,
 "nbformat_minor": 5
}
